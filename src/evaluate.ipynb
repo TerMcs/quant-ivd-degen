{
 "cells": [
  {
   "cell_type": "code",
   "execution_count": 35,
   "metadata": {},
   "outputs": [],
   "source": [
    "import numpy as np\n",
    "import pandas as pd\n",
    "from sklearn.metrics import accuracy_score, balanced_accuracy_score, cohen_kappa_score, precision_score, recall_score, f1_score, matthews_corrcoef, roc_auc_score, make_scorer\n",
    "from tqdm import tqdm"
   ]
  },
  {
   "cell_type": "code",
   "execution_count": 43,
   "metadata": {},
   "outputs": [],
   "source": [
    "def bootstrap_test(metric, y, preds, null_hypothesis, n_bootstrap, seed=12345, stratified=True, alpha=95, metric_average=None):\n",
    "    \"\"\"\n",
    "    Parameters\n",
    "    ----------\n",
    "    metric : fucntion\n",
    "        Metric to compute, e.g. AUC for ROC curve or AP for PR curve\n",
    "    y : numpy.array\n",
    "        Ground truth\n",
    "    preds : numpy.array\n",
    "        Predictions\n",
    "    null_hypothesis :\n",
    "        Value for the metric if predictions are random or some other kind of null hypothesis for testing the model\n",
    "        performance against\n",
    "    n_bootstrap:\n",
    "        Number of bootstrap samples to draw\n",
    "    seed : int\n",
    "        Random seed\n",
    "    stratified : bool\n",
    "        Whether to do a stratified bootstrapping\n",
    "    alpha : float\n",
    "        Confidence intervals width\n",
    "    \"\"\"\n",
    "\n",
    "    np.random.seed(seed)\n",
    "    metric_vals = []\n",
    "    classes = np.unique(y)\n",
    "    inds = []\n",
    "    for cls in classes:\n",
    "        inds.append(np.where(y == cls)[0])\n",
    "\n",
    "    for _ in tqdm(range(n_bootstrap), total=n_bootstrap, desc='Bootstrap:'):\n",
    "        if stratified:\n",
    "            ind_bs = []\n",
    "            for ind_cur in inds:\n",
    "                ind_bs.append(np.random.choice(ind_cur, ind_cur.shape[0]))\n",
    "            ind = np.hstack(ind_bs)\n",
    "        else:\n",
    "            ind = np.random.choice(y.shape[0], y.shape[0])\n",
    "\n",
    "        if metric_average is not None:\n",
    "            bootstrap_statistic = metric(y[ind], preds[ind], average=metric_average)\n",
    "        else:\n",
    "            bootstrap_statistic = metric(y[ind], preds[ind])\n",
    "\n",
    "        if bootstrap_statistic is not None:\n",
    "            metric_vals.append(bootstrap_statistic)\n",
    "\n",
    "    metric_vals = np.array(metric_vals)\n",
    "    p_value = np.mean(metric_vals <= null_hypothesis)   # I am still not confident on this \n",
    "                                                        # (e.g. this looks like one sided test, should it not be two-tailed? \n",
    "\n",
    "    if metric_average is not None:\n",
    "        metric_val = metric(y, preds, average=metric_average)\n",
    "    else:\n",
    "        metric_val = metric(y, preds)\n",
    "\n",
    "    ci_l = np.percentile(metric_vals, (100 - alpha) // 2)\n",
    "    ci_h = np.percentile(metric_vals, alpha + (100 - alpha) // 2)\n",
    "\n",
    "    return p_value, metric_val, ci_l, ci_h"
   ]
  },
  {
   "cell_type": "code",
   "execution_count": 49,
   "metadata": {},
   "outputs": [],
   "source": [
    "def concordance_correlation_coefficient(y_true, y_pred):\n",
    "    \"\"\"Concordance correlation coefficient.\"\"\"\n",
    "    # Raw data\n",
    "    dct = {\n",
    "        'y_true': y_true,\n",
    "        'y_pred': y_pred\n",
    "    }\n",
    "    df = pd.DataFrame(dct)\n",
    "    # Remove NaNs\n",
    "    df = df.dropna()\n",
    "    # Pearson product-moment correlation coefficients\n",
    "    y_true = df['y_true']\n",
    "    y_pred = df['y_pred']\n",
    "    cor = np.corrcoef(y_true, y_pred)[0][1]\n",
    "    # Means\n",
    "    mean_true = np.mean(y_true)\n",
    "    mean_pred = np.mean(y_pred)\n",
    "    # Population variances\n",
    "    var_true = np.var(y_true)\n",
    "    var_pred = np.var(y_pred)\n",
    "    # Population standard deviations\n",
    "    sd_true = np.std(y_true)\n",
    "    sd_pred = np.std(y_pred)\n",
    "    # Calculate CCC\n",
    "    numerator = 2 * cor * sd_true * sd_pred\n",
    "    denominator = var_true + var_pred + (mean_true - mean_pred)**2\n",
    "\n",
    "    return numerator / denominator"
   ]
  },
  {
   "cell_type": "code",
   "execution_count": 51,
   "metadata": {},
   "outputs": [],
   "source": [
    "metrics_multiclass = {\n",
    "        'Accuracy': accuracy_score,\n",
    "        'Balanced Accuracy Score': balanced_accuracy_score,\n",
    "        'Matthews Correlation Coefficient': matthews_corrcoef,\n",
    "        'Cohen Kappa': cohen_kappa_score,\n",
    "        'Lins Concordance Correlation Coefficient': concordance_correlation_coefficient,\n",
    "        }\n",
    "\n",
    "metrics_averaged = {\n",
    "        'F1 Score': f1_score,\n",
    "        'Precision': precision_score, \n",
    "        'Recall': recall_score,\n",
    "        }"
   ]
  },
  {
   "cell_type": "code",
   "execution_count": 52,
   "metadata": {},
   "outputs": [
    {
     "name": "stdout",
     "output_type": "stream",
     "text": [
      "Computing Accuracy\n"
     ]
    },
    {
     "name": "stderr",
     "output_type": "stream",
     "text": [
      "Bootstrap:: 100%|██████████| 1000/1000 [00:00<00:00, 5309.58it/s]\n"
     ]
    },
    {
     "name": "stdout",
     "output_type": "stream",
     "text": [
      "Computing Balanced Accuracy Score\n"
     ]
    },
    {
     "name": "stderr",
     "output_type": "stream",
     "text": [
      "Bootstrap:: 100%|██████████| 1000/1000 [00:00<00:00, 1700.69it/s]\n"
     ]
    },
    {
     "name": "stdout",
     "output_type": "stream",
     "text": [
      "Computing Matthews Correlation Coefficient\n"
     ]
    },
    {
     "name": "stderr",
     "output_type": "stream",
     "text": [
      "Bootstrap:: 100%|██████████| 1000/1000 [00:00<00:00, 1695.81it/s]\n"
     ]
    },
    {
     "name": "stdout",
     "output_type": "stream",
     "text": [
      "Computing Cohen Kappa\n"
     ]
    },
    {
     "name": "stderr",
     "output_type": "stream",
     "text": [
      "Bootstrap:: 100%|██████████| 1000/1000 [00:00<00:00, 1676.42it/s]\n"
     ]
    },
    {
     "name": "stdout",
     "output_type": "stream",
     "text": [
      "Computing Lins Concordance Correlation Coefficient\n"
     ]
    },
    {
     "name": "stderr",
     "output_type": "stream",
     "text": [
      "Bootstrap:: 100%|██████████| 1000/1000 [00:00<00:00, 2213.52it/s]\n"
     ]
    },
    {
     "name": "stdout",
     "output_type": "stream",
     "text": [
      "Computing F1 Score (macro)\n"
     ]
    },
    {
     "name": "stderr",
     "output_type": "stream",
     "text": [
      "Bootstrap:: 100%|██████████| 1000/1000 [00:00<00:00, 1463.31it/s]\n"
     ]
    },
    {
     "name": "stdout",
     "output_type": "stream",
     "text": [
      "Computing F1 Score (micro)\n"
     ]
    },
    {
     "name": "stderr",
     "output_type": "stream",
     "text": [
      "Bootstrap:: 100%|██████████| 1000/1000 [00:00<00:00, 1463.19it/s]\n"
     ]
    },
    {
     "name": "stdout",
     "output_type": "stream",
     "text": [
      "Computing Precision (macro)\n"
     ]
    },
    {
     "name": "stderr",
     "output_type": "stream",
     "text": [
      "Bootstrap:: 100%|██████████| 1000/1000 [00:00<00:00, 1462.84it/s]\n"
     ]
    },
    {
     "name": "stdout",
     "output_type": "stream",
     "text": [
      "Computing Precision (micro)\n"
     ]
    },
    {
     "name": "stderr",
     "output_type": "stream",
     "text": [
      "Bootstrap:: 100%|██████████| 1000/1000 [00:00<00:00, 1466.37it/s]\n"
     ]
    },
    {
     "name": "stdout",
     "output_type": "stream",
     "text": [
      "Computing Recall (macro)\n"
     ]
    },
    {
     "name": "stderr",
     "output_type": "stream",
     "text": [
      "Bootstrap:: 100%|██████████| 1000/1000 [00:00<00:00, 1478.50it/s]\n"
     ]
    },
    {
     "name": "stdout",
     "output_type": "stream",
     "text": [
      "Computing Recall (micro)\n"
     ]
    },
    {
     "name": "stderr",
     "output_type": "stream",
     "text": [
      "Bootstrap:: 100%|██████████| 1000/1000 [00:00<00:00, 1455.12it/s]\n"
     ]
    },
    {
     "name": "stdout",
     "output_type": "stream",
     "text": [
      "Computing Accuracy\n"
     ]
    },
    {
     "name": "stderr",
     "output_type": "stream",
     "text": [
      "Bootstrap:: 100%|██████████| 1000/1000 [00:00<00:00, 5658.41it/s]\n"
     ]
    },
    {
     "name": "stdout",
     "output_type": "stream",
     "text": [
      "Computing Balanced Accuracy Score\n"
     ]
    },
    {
     "name": "stderr",
     "output_type": "stream",
     "text": [
      "Bootstrap:: 100%|██████████| 1000/1000 [00:00<00:00, 1708.42it/s]\n"
     ]
    },
    {
     "name": "stdout",
     "output_type": "stream",
     "text": [
      "Computing Matthews Correlation Coefficient\n"
     ]
    },
    {
     "name": "stderr",
     "output_type": "stream",
     "text": [
      "Bootstrap:: 100%|██████████| 1000/1000 [00:00<00:00, 1728.29it/s]\n"
     ]
    },
    {
     "name": "stdout",
     "output_type": "stream",
     "text": [
      "Computing Cohen Kappa\n"
     ]
    },
    {
     "name": "stderr",
     "output_type": "stream",
     "text": [
      "Bootstrap:: 100%|██████████| 1000/1000 [00:00<00:00, 1697.39it/s]\n"
     ]
    },
    {
     "name": "stdout",
     "output_type": "stream",
     "text": [
      "Computing Lins Concordance Correlation Coefficient\n"
     ]
    },
    {
     "name": "stderr",
     "output_type": "stream",
     "text": [
      "Bootstrap:: 100%|██████████| 1000/1000 [00:00<00:00, 2241.36it/s]\n"
     ]
    },
    {
     "name": "stdout",
     "output_type": "stream",
     "text": [
      "Computing F1 Score (macro)\n"
     ]
    },
    {
     "name": "stderr",
     "output_type": "stream",
     "text": [
      "Bootstrap:: 100%|██████████| 1000/1000 [00:00<00:00, 1461.24it/s]\n"
     ]
    },
    {
     "name": "stdout",
     "output_type": "stream",
     "text": [
      "Computing F1 Score (micro)\n"
     ]
    },
    {
     "name": "stderr",
     "output_type": "stream",
     "text": [
      "Bootstrap:: 100%|██████████| 1000/1000 [00:00<00:00, 1450.00it/s]\n"
     ]
    },
    {
     "name": "stdout",
     "output_type": "stream",
     "text": [
      "Computing Precision (macro)\n"
     ]
    },
    {
     "name": "stderr",
     "output_type": "stream",
     "text": [
      "Bootstrap:: 100%|██████████| 1000/1000 [00:00<00:00, 1455.26it/s]\n"
     ]
    },
    {
     "name": "stdout",
     "output_type": "stream",
     "text": [
      "Computing Precision (micro)\n"
     ]
    },
    {
     "name": "stderr",
     "output_type": "stream",
     "text": [
      "Bootstrap:: 100%|██████████| 1000/1000 [00:00<00:00, 1445.64it/s]\n"
     ]
    },
    {
     "name": "stdout",
     "output_type": "stream",
     "text": [
      "Computing Recall (macro)\n"
     ]
    },
    {
     "name": "stderr",
     "output_type": "stream",
     "text": [
      "Bootstrap:: 100%|██████████| 1000/1000 [00:00<00:00, 1454.08it/s]\n"
     ]
    },
    {
     "name": "stdout",
     "output_type": "stream",
     "text": [
      "Computing Recall (micro)\n"
     ]
    },
    {
     "name": "stderr",
     "output_type": "stream",
     "text": [
      "Bootstrap:: 100%|██████████| 1000/1000 [00:00<00:00, 1439.17it/s]\n"
     ]
    },
    {
     "name": "stdout",
     "output_type": "stream",
     "text": [
      "Computing Accuracy\n"
     ]
    },
    {
     "name": "stderr",
     "output_type": "stream",
     "text": [
      "Bootstrap:: 100%|██████████| 1000/1000 [00:00<00:00, 5670.32it/s]\n"
     ]
    },
    {
     "name": "stdout",
     "output_type": "stream",
     "text": [
      "Computing Balanced Accuracy Score\n"
     ]
    },
    {
     "name": "stderr",
     "output_type": "stream",
     "text": [
      "Bootstrap:: 100%|██████████| 1000/1000 [00:00<00:00, 1704.15it/s]\n"
     ]
    },
    {
     "name": "stdout",
     "output_type": "stream",
     "text": [
      "Computing Matthews Correlation Coefficient\n"
     ]
    },
    {
     "name": "stderr",
     "output_type": "stream",
     "text": [
      "Bootstrap:: 100%|██████████| 1000/1000 [00:00<00:00, 1697.09it/s]\n"
     ]
    },
    {
     "name": "stdout",
     "output_type": "stream",
     "text": [
      "Computing Cohen Kappa\n"
     ]
    },
    {
     "name": "stderr",
     "output_type": "stream",
     "text": [
      "Bootstrap:: 100%|██████████| 1000/1000 [00:00<00:00, 1684.90it/s]\n"
     ]
    },
    {
     "name": "stdout",
     "output_type": "stream",
     "text": [
      "Computing Lins Concordance Correlation Coefficient\n"
     ]
    },
    {
     "name": "stderr",
     "output_type": "stream",
     "text": [
      "Bootstrap:: 100%|██████████| 1000/1000 [00:00<00:00, 2240.25it/s]\n"
     ]
    },
    {
     "name": "stdout",
     "output_type": "stream",
     "text": [
      "Computing F1 Score (macro)\n"
     ]
    },
    {
     "name": "stderr",
     "output_type": "stream",
     "text": [
      "Bootstrap:: 100%|██████████| 1000/1000 [00:00<00:00, 1461.24it/s]\n"
     ]
    },
    {
     "name": "stdout",
     "output_type": "stream",
     "text": [
      "Computing F1 Score (micro)\n"
     ]
    },
    {
     "name": "stderr",
     "output_type": "stream",
     "text": [
      "Bootstrap:: 100%|██████████| 1000/1000 [00:00<00:00, 1412.49it/s]\n"
     ]
    },
    {
     "name": "stdout",
     "output_type": "stream",
     "text": [
      "Computing Precision (macro)\n"
     ]
    },
    {
     "name": "stderr",
     "output_type": "stream",
     "text": [
      "Bootstrap:: 100%|██████████| 1000/1000 [00:00<00:00, 1443.50it/s]\n"
     ]
    },
    {
     "name": "stdout",
     "output_type": "stream",
     "text": [
      "Computing Precision (micro)\n"
     ]
    },
    {
     "name": "stderr",
     "output_type": "stream",
     "text": [
      "Bootstrap:: 100%|██████████| 1000/1000 [00:00<00:00, 1429.81it/s]\n"
     ]
    },
    {
     "name": "stdout",
     "output_type": "stream",
     "text": [
      "Computing Recall (macro)\n"
     ]
    },
    {
     "name": "stderr",
     "output_type": "stream",
     "text": [
      "Bootstrap:: 100%|██████████| 1000/1000 [00:00<00:00, 1431.01it/s]\n"
     ]
    },
    {
     "name": "stdout",
     "output_type": "stream",
     "text": [
      "Computing Recall (micro)\n"
     ]
    },
    {
     "name": "stderr",
     "output_type": "stream",
     "text": [
      "Bootstrap:: 100%|██████████| 1000/1000 [00:00<00:00, 1421.75it/s]\n"
     ]
    }
   ],
   "source": [
    "feature_sets = ['radiomics_dhi_dpsi', 'radiomics_only', 'dhi_dpsi_only']\n",
    "\n",
    "dfs = []\n",
    "\n",
    "for feature_set in feature_sets:\n",
    "    predictions = pd.read_csv(f'../data/original_results/{feature_set}.csv')\n",
    "    y = predictions['pfirrmann'].values\n",
    "    preds = predictions['pfirrmann_prediction'].values\n",
    "\n",
    "    evaluation_results = {}\n",
    "\n",
    "    for name, score in metrics_multiclass.items():\n",
    "        print(f'Computing {name}')\n",
    "        p_value, metric_val, ci_l, ci_h = bootstrap_test(score, y, preds, null_hypothesis=0.5, n_bootstrap=1000)\n",
    "        evaluation_results[name] = [metric_val, ci_l, ci_h, p_value, feature_set]\n",
    "\n",
    "    evaluation_results = pd.DataFrame.from_dict(evaluation_results, orient='index', columns=['Metric Value', 'CI Lower', 'CI Upper', 'p-value', 'Feature Set'])\n",
    "    \n",
    "    for name, score in metrics_averaged.items():\n",
    "        for avg in ['macro', 'micro']:\n",
    "            print(f'Computing {name} ({avg})')\n",
    "            p_value, metric_val, ci_l, ci_h = bootstrap_test(score, y, preds, null_hypothesis=0.5, n_bootstrap=1000, metric_average=avg)\n",
    "            evaluation_results.loc[f'{name} ({avg})'] = [metric_val, ci_l, ci_h, p_value, feature_set]\n",
    "    \n",
    "    dfs.append(evaluation_results)\n",
    "\n",
    "df = pd.concat(dfs, axis=0)\n",
    "df.to_csv('../data/test_set_metrics.csv')"
   ]
  },
  {
   "cell_type": "code",
   "execution_count": 53,
   "metadata": {},
   "outputs": [
    {
     "data": {
      "text/html": [
       "<div>\n",
       "<style scoped>\n",
       "    .dataframe tbody tr th:only-of-type {\n",
       "        vertical-align: middle;\n",
       "    }\n",
       "\n",
       "    .dataframe tbody tr th {\n",
       "        vertical-align: top;\n",
       "    }\n",
       "\n",
       "    .dataframe thead th {\n",
       "        text-align: right;\n",
       "    }\n",
       "</style>\n",
       "<table border=\"1\" class=\"dataframe\">\n",
       "  <thead>\n",
       "    <tr style=\"text-align: right;\">\n",
       "      <th></th>\n",
       "      <th>Metric Value</th>\n",
       "      <th>CI Lower</th>\n",
       "      <th>CI Upper</th>\n",
       "      <th>p-value</th>\n",
       "      <th>Feature Set</th>\n",
       "    </tr>\n",
       "  </thead>\n",
       "  <tbody>\n",
       "    <tr>\n",
       "      <th>Accuracy</th>\n",
       "      <td>0.809410</td>\n",
       "      <td>0.787879</td>\n",
       "      <td>0.828573</td>\n",
       "      <td>0.00</td>\n",
       "      <td>radiomics_dhi_dpsi</td>\n",
       "    </tr>\n",
       "    <tr>\n",
       "      <th>Balanced Accuracy Score</th>\n",
       "      <td>0.778560</td>\n",
       "      <td>0.741511</td>\n",
       "      <td>0.811098</td>\n",
       "      <td>0.00</td>\n",
       "      <td>radiomics_dhi_dpsi</td>\n",
       "    </tr>\n",
       "    <tr>\n",
       "      <th>Matthews Correlation Coefficient</th>\n",
       "      <td>0.701613</td>\n",
       "      <td>0.667768</td>\n",
       "      <td>0.733129</td>\n",
       "      <td>0.00</td>\n",
       "      <td>radiomics_dhi_dpsi</td>\n",
       "    </tr>\n",
       "    <tr>\n",
       "      <th>Cohen Kappa</th>\n",
       "      <td>0.701291</td>\n",
       "      <td>0.667297</td>\n",
       "      <td>0.732468</td>\n",
       "      <td>0.00</td>\n",
       "      <td>radiomics_dhi_dpsi</td>\n",
       "    </tr>\n",
       "    <tr>\n",
       "      <th>Lins Concordance Correlation Coefficient</th>\n",
       "      <td>0.856597</td>\n",
       "      <td>0.834406</td>\n",
       "      <td>0.874548</td>\n",
       "      <td>0.00</td>\n",
       "      <td>radiomics_dhi_dpsi</td>\n",
       "    </tr>\n",
       "    <tr>\n",
       "      <th>F1 Score (macro)</th>\n",
       "      <td>0.774959</td>\n",
       "      <td>0.742629</td>\n",
       "      <td>0.803338</td>\n",
       "      <td>0.00</td>\n",
       "      <td>radiomics_dhi_dpsi</td>\n",
       "    </tr>\n",
       "    <tr>\n",
       "      <th>F1 Score (micro)</th>\n",
       "      <td>0.809410</td>\n",
       "      <td>0.787879</td>\n",
       "      <td>0.828573</td>\n",
       "      <td>0.00</td>\n",
       "      <td>radiomics_dhi_dpsi</td>\n",
       "    </tr>\n",
       "    <tr>\n",
       "      <th>Precision (macro)</th>\n",
       "      <td>0.773816</td>\n",
       "      <td>0.742167</td>\n",
       "      <td>0.804680</td>\n",
       "      <td>0.00</td>\n",
       "      <td>radiomics_dhi_dpsi</td>\n",
       "    </tr>\n",
       "    <tr>\n",
       "      <th>Precision (micro)</th>\n",
       "      <td>0.809410</td>\n",
       "      <td>0.787879</td>\n",
       "      <td>0.828573</td>\n",
       "      <td>0.00</td>\n",
       "      <td>radiomics_dhi_dpsi</td>\n",
       "    </tr>\n",
       "    <tr>\n",
       "      <th>Recall (macro)</th>\n",
       "      <td>0.778560</td>\n",
       "      <td>0.741511</td>\n",
       "      <td>0.811098</td>\n",
       "      <td>0.00</td>\n",
       "      <td>radiomics_dhi_dpsi</td>\n",
       "    </tr>\n",
       "    <tr>\n",
       "      <th>Recall (micro)</th>\n",
       "      <td>0.809410</td>\n",
       "      <td>0.787879</td>\n",
       "      <td>0.828573</td>\n",
       "      <td>0.00</td>\n",
       "      <td>radiomics_dhi_dpsi</td>\n",
       "    </tr>\n",
       "    <tr>\n",
       "      <th>Accuracy</th>\n",
       "      <td>0.794258</td>\n",
       "      <td>0.771930</td>\n",
       "      <td>0.814992</td>\n",
       "      <td>0.00</td>\n",
       "      <td>radiomics_only</td>\n",
       "    </tr>\n",
       "    <tr>\n",
       "      <th>Balanced Accuracy Score</th>\n",
       "      <td>0.751646</td>\n",
       "      <td>0.713431</td>\n",
       "      <td>0.785581</td>\n",
       "      <td>0.00</td>\n",
       "      <td>radiomics_only</td>\n",
       "    </tr>\n",
       "    <tr>\n",
       "      <th>Matthews Correlation Coefficient</th>\n",
       "      <td>0.676815</td>\n",
       "      <td>0.641762</td>\n",
       "      <td>0.710435</td>\n",
       "      <td>0.00</td>\n",
       "      <td>radiomics_only</td>\n",
       "    </tr>\n",
       "    <tr>\n",
       "      <th>Cohen Kappa</th>\n",
       "      <td>0.676104</td>\n",
       "      <td>0.640479</td>\n",
       "      <td>0.709701</td>\n",
       "      <td>0.00</td>\n",
       "      <td>radiomics_only</td>\n",
       "    </tr>\n",
       "    <tr>\n",
       "      <th>Lins Concordance Correlation Coefficient</th>\n",
       "      <td>0.844439</td>\n",
       "      <td>0.821474</td>\n",
       "      <td>0.863240</td>\n",
       "      <td>0.00</td>\n",
       "      <td>radiomics_only</td>\n",
       "    </tr>\n",
       "    <tr>\n",
       "      <th>F1 Score (macro)</th>\n",
       "      <td>0.753427</td>\n",
       "      <td>0.719829</td>\n",
       "      <td>0.783569</td>\n",
       "      <td>0.00</td>\n",
       "      <td>radiomics_only</td>\n",
       "    </tr>\n",
       "    <tr>\n",
       "      <th>F1 Score (micro)</th>\n",
       "      <td>0.794258</td>\n",
       "      <td>0.771930</td>\n",
       "      <td>0.814992</td>\n",
       "      <td>0.00</td>\n",
       "      <td>radiomics_only</td>\n",
       "    </tr>\n",
       "    <tr>\n",
       "      <th>Precision (macro)</th>\n",
       "      <td>0.759072</td>\n",
       "      <td>0.725332</td>\n",
       "      <td>0.792356</td>\n",
       "      <td>0.00</td>\n",
       "      <td>radiomics_only</td>\n",
       "    </tr>\n",
       "    <tr>\n",
       "      <th>Precision (micro)</th>\n",
       "      <td>0.794258</td>\n",
       "      <td>0.771930</td>\n",
       "      <td>0.814992</td>\n",
       "      <td>0.00</td>\n",
       "      <td>radiomics_only</td>\n",
       "    </tr>\n",
       "    <tr>\n",
       "      <th>Recall (macro)</th>\n",
       "      <td>0.751646</td>\n",
       "      <td>0.713431</td>\n",
       "      <td>0.785581</td>\n",
       "      <td>0.00</td>\n",
       "      <td>radiomics_only</td>\n",
       "    </tr>\n",
       "    <tr>\n",
       "      <th>Recall (micro)</th>\n",
       "      <td>0.794258</td>\n",
       "      <td>0.771930</td>\n",
       "      <td>0.814992</td>\n",
       "      <td>0.00</td>\n",
       "      <td>radiomics_only</td>\n",
       "    </tr>\n",
       "    <tr>\n",
       "      <th>Accuracy</th>\n",
       "      <td>0.711324</td>\n",
       "      <td>0.686587</td>\n",
       "      <td>0.734474</td>\n",
       "      <td>0.00</td>\n",
       "      <td>dhi_dpsi_only</td>\n",
       "    </tr>\n",
       "    <tr>\n",
       "      <th>Balanced Accuracy Score</th>\n",
       "      <td>0.651914</td>\n",
       "      <td>0.611522</td>\n",
       "      <td>0.688753</td>\n",
       "      <td>0.00</td>\n",
       "      <td>dhi_dpsi_only</td>\n",
       "    </tr>\n",
       "    <tr>\n",
       "      <th>Matthews Correlation Coefficient</th>\n",
       "      <td>0.545466</td>\n",
       "      <td>0.505916</td>\n",
       "      <td>0.583229</td>\n",
       "      <td>0.01</td>\n",
       "      <td>dhi_dpsi_only</td>\n",
       "    </tr>\n",
       "    <tr>\n",
       "      <th>Cohen Kappa</th>\n",
       "      <td>0.545083</td>\n",
       "      <td>0.505467</td>\n",
       "      <td>0.582579</td>\n",
       "      <td>0.01</td>\n",
       "      <td>dhi_dpsi_only</td>\n",
       "    </tr>\n",
       "    <tr>\n",
       "      <th>Lins Concordance Correlation Coefficient</th>\n",
       "      <td>0.751828</td>\n",
       "      <td>0.722645</td>\n",
       "      <td>0.778502</td>\n",
       "      <td>0.00</td>\n",
       "      <td>dhi_dpsi_only</td>\n",
       "    </tr>\n",
       "    <tr>\n",
       "      <th>F1 Score (macro)</th>\n",
       "      <td>0.654591</td>\n",
       "      <td>0.616518</td>\n",
       "      <td>0.687400</td>\n",
       "      <td>0.00</td>\n",
       "      <td>dhi_dpsi_only</td>\n",
       "    </tr>\n",
       "    <tr>\n",
       "      <th>F1 Score (micro)</th>\n",
       "      <td>0.711324</td>\n",
       "      <td>0.686587</td>\n",
       "      <td>0.734474</td>\n",
       "      <td>0.00</td>\n",
       "      <td>dhi_dpsi_only</td>\n",
       "    </tr>\n",
       "    <tr>\n",
       "      <th>Precision (macro)</th>\n",
       "      <td>0.658889</td>\n",
       "      <td>0.621002</td>\n",
       "      <td>0.695817</td>\n",
       "      <td>0.00</td>\n",
       "      <td>dhi_dpsi_only</td>\n",
       "    </tr>\n",
       "    <tr>\n",
       "      <th>Precision (micro)</th>\n",
       "      <td>0.711324</td>\n",
       "      <td>0.686587</td>\n",
       "      <td>0.734474</td>\n",
       "      <td>0.00</td>\n",
       "      <td>dhi_dpsi_only</td>\n",
       "    </tr>\n",
       "    <tr>\n",
       "      <th>Recall (macro)</th>\n",
       "      <td>0.651914</td>\n",
       "      <td>0.611522</td>\n",
       "      <td>0.688753</td>\n",
       "      <td>0.00</td>\n",
       "      <td>dhi_dpsi_only</td>\n",
       "    </tr>\n",
       "    <tr>\n",
       "      <th>Recall (micro)</th>\n",
       "      <td>0.711324</td>\n",
       "      <td>0.686587</td>\n",
       "      <td>0.734474</td>\n",
       "      <td>0.00</td>\n",
       "      <td>dhi_dpsi_only</td>\n",
       "    </tr>\n",
       "  </tbody>\n",
       "</table>\n",
       "</div>"
      ],
      "text/plain": [
       "                                          Metric Value  CI Lower  CI Upper  \\\n",
       "Accuracy                                      0.809410  0.787879  0.828573   \n",
       "Balanced Accuracy Score                       0.778560  0.741511  0.811098   \n",
       "Matthews Correlation Coefficient              0.701613  0.667768  0.733129   \n",
       "Cohen Kappa                                   0.701291  0.667297  0.732468   \n",
       "Lins Concordance Correlation Coefficient      0.856597  0.834406  0.874548   \n",
       "F1 Score (macro)                              0.774959  0.742629  0.803338   \n",
       "F1 Score (micro)                              0.809410  0.787879  0.828573   \n",
       "Precision (macro)                             0.773816  0.742167  0.804680   \n",
       "Precision (micro)                             0.809410  0.787879  0.828573   \n",
       "Recall (macro)                                0.778560  0.741511  0.811098   \n",
       "Recall (micro)                                0.809410  0.787879  0.828573   \n",
       "Accuracy                                      0.794258  0.771930  0.814992   \n",
       "Balanced Accuracy Score                       0.751646  0.713431  0.785581   \n",
       "Matthews Correlation Coefficient              0.676815  0.641762  0.710435   \n",
       "Cohen Kappa                                   0.676104  0.640479  0.709701   \n",
       "Lins Concordance Correlation Coefficient      0.844439  0.821474  0.863240   \n",
       "F1 Score (macro)                              0.753427  0.719829  0.783569   \n",
       "F1 Score (micro)                              0.794258  0.771930  0.814992   \n",
       "Precision (macro)                             0.759072  0.725332  0.792356   \n",
       "Precision (micro)                             0.794258  0.771930  0.814992   \n",
       "Recall (macro)                                0.751646  0.713431  0.785581   \n",
       "Recall (micro)                                0.794258  0.771930  0.814992   \n",
       "Accuracy                                      0.711324  0.686587  0.734474   \n",
       "Balanced Accuracy Score                       0.651914  0.611522  0.688753   \n",
       "Matthews Correlation Coefficient              0.545466  0.505916  0.583229   \n",
       "Cohen Kappa                                   0.545083  0.505467  0.582579   \n",
       "Lins Concordance Correlation Coefficient      0.751828  0.722645  0.778502   \n",
       "F1 Score (macro)                              0.654591  0.616518  0.687400   \n",
       "F1 Score (micro)                              0.711324  0.686587  0.734474   \n",
       "Precision (macro)                             0.658889  0.621002  0.695817   \n",
       "Precision (micro)                             0.711324  0.686587  0.734474   \n",
       "Recall (macro)                                0.651914  0.611522  0.688753   \n",
       "Recall (micro)                                0.711324  0.686587  0.734474   \n",
       "\n",
       "                                          p-value         Feature Set  \n",
       "Accuracy                                     0.00  radiomics_dhi_dpsi  \n",
       "Balanced Accuracy Score                      0.00  radiomics_dhi_dpsi  \n",
       "Matthews Correlation Coefficient             0.00  radiomics_dhi_dpsi  \n",
       "Cohen Kappa                                  0.00  radiomics_dhi_dpsi  \n",
       "Lins Concordance Correlation Coefficient     0.00  radiomics_dhi_dpsi  \n",
       "F1 Score (macro)                             0.00  radiomics_dhi_dpsi  \n",
       "F1 Score (micro)                             0.00  radiomics_dhi_dpsi  \n",
       "Precision (macro)                            0.00  radiomics_dhi_dpsi  \n",
       "Precision (micro)                            0.00  radiomics_dhi_dpsi  \n",
       "Recall (macro)                               0.00  radiomics_dhi_dpsi  \n",
       "Recall (micro)                               0.00  radiomics_dhi_dpsi  \n",
       "Accuracy                                     0.00      radiomics_only  \n",
       "Balanced Accuracy Score                      0.00      radiomics_only  \n",
       "Matthews Correlation Coefficient             0.00      radiomics_only  \n",
       "Cohen Kappa                                  0.00      radiomics_only  \n",
       "Lins Concordance Correlation Coefficient     0.00      radiomics_only  \n",
       "F1 Score (macro)                             0.00      radiomics_only  \n",
       "F1 Score (micro)                             0.00      radiomics_only  \n",
       "Precision (macro)                            0.00      radiomics_only  \n",
       "Precision (micro)                            0.00      radiomics_only  \n",
       "Recall (macro)                               0.00      radiomics_only  \n",
       "Recall (micro)                               0.00      radiomics_only  \n",
       "Accuracy                                     0.00       dhi_dpsi_only  \n",
       "Balanced Accuracy Score                      0.00       dhi_dpsi_only  \n",
       "Matthews Correlation Coefficient             0.01       dhi_dpsi_only  \n",
       "Cohen Kappa                                  0.01       dhi_dpsi_only  \n",
       "Lins Concordance Correlation Coefficient     0.00       dhi_dpsi_only  \n",
       "F1 Score (macro)                             0.00       dhi_dpsi_only  \n",
       "F1 Score (micro)                             0.00       dhi_dpsi_only  \n",
       "Precision (macro)                            0.00       dhi_dpsi_only  \n",
       "Precision (micro)                            0.00       dhi_dpsi_only  \n",
       "Recall (macro)                               0.00       dhi_dpsi_only  \n",
       "Recall (micro)                               0.00       dhi_dpsi_only  "
      ]
     },
     "execution_count": 53,
     "metadata": {},
     "output_type": "execute_result"
    }
   ],
   "source": [
    "df"
   ]
  }
 ],
 "metadata": {
  "kernelspec": {
   "display_name": ".venv",
   "language": "python",
   "name": "python3"
  },
  "language_info": {
   "codemirror_mode": {
    "name": "ipython",
    "version": 3
   },
   "file_extension": ".py",
   "mimetype": "text/x-python",
   "name": "python",
   "nbconvert_exporter": "python",
   "pygments_lexer": "ipython3",
   "version": "3.9.6"
  }
 },
 "nbformat": 4,
 "nbformat_minor": 2
}
